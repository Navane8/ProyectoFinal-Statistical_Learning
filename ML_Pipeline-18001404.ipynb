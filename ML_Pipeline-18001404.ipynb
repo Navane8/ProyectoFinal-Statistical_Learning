{
 "cells": [
  {
   "cell_type": "code",
   "execution_count": 44,
   "id": "7f261b4a-1e80-4c73-b43b-cd0347ed88a6",
   "metadata": {},
   "outputs": [],
   "source": [
    "import pandas as pd\n",
    "import numpy as np\n",
    "from sklearn.metrics import mean_squared_error, r2_score\n",
    "from sklearn.model_selection import train_test_split\n",
    "from sklearn.pipeline import Pipeline\n",
    "from sklearn.preprocessing import StandardScaler\n",
    "from sklearn.impute import SimpleImputer\n",
    "\n",
    "from feature_engine.imputation import AddMissingIndicator, MeanMedianImputer, CategoricalImputer\n",
    "from feature_engine.encoding import RareLabelEncoder, OrdinalEncoder\n",
    "from feature_engine.transformation import YeoJohnsonTransformer\n",
    "from feature_engine.outliers import Winsorizer\n",
    "from sklearn.tree  import DecisionTreeClassifier"
   ]
  },
  {
   "cell_type": "code",
   "execution_count": 45,
   "id": "c228c62f-74f9-4ada-8e30-3877d5f9a7cb",
   "metadata": {},
   "outputs": [
    {
     "name": "stderr",
     "output_type": "stream",
     "text": [
      "C:\\Users\\50259\\AppData\\Local\\Temp\\ipykernel_14296\\2641053941.py:1: DtypeWarning: Columns (26) have mixed types. Specify dtype option on import or set low_memory=False.\n",
      "  dataTrain = pd.read_csv(\"train.csv\")\n"
     ]
    }
   ],
   "source": [
    "dataTrain = pd.read_csv(\"train.csv\")\n"
   ]
  },
  {
   "cell_type": "code",
   "execution_count": 46,
   "id": "b536fbe7",
   "metadata": {},
   "outputs": [],
   "source": [
    "# Algunas columnas tiene como signo adicional '_' en su valor numerico por lo que se debe limpiar las columnas \n",
    "# previo a convertirlas en numerico\n",
    "\n",
    "# PASO 2: REEMPLAZAR '-' CON LOS VALORES RESPECTIVOS\n",
    "\n",
    "# En este caso 'numero_' debe ser 'numero' por tanto se hace el cambio '_' = ''\n",
    "dataTrain['Annual_Income'] = dataTrain['Annual_Income'].str.replace('_', '')\n",
    "dataTrain['Outstanding_Debt'] = dataTrain['Outstanding_Debt'].str.replace('_', '')\n",
    "dataTrain['Age'] = dataTrain['Age'].str.replace('_', '')\n",
    "dataTrain['Num_of_Loan'] = dataTrain['Num_of_Loan'].str.replace('_', '')\n",
    "\n",
    "# En este caso '_' debe ser '0' porque significa sin cambio en limite de credito, por tanto se reemplaza '_' = '0'\n",
    "dataTrain['Changed_Credit_Limit'] = dataTrain['Changed_Credit_Limit'].str.replace('_', '0')\n",
    "\n",
    "# En este caso solo hay un numero con problema: ' __10000__' por tanto se sustituye con 10000\n",
    "dataTrain['Amount_invested_monthly'] = dataTrain['Amount_invested_monthly'].str.replace('__10000__', '10000')\n",
    "# En este caso solo hay un numero con problema: _-3333333_ por tanto se sustituye con -3333333\n",
    "dataTrain['Monthly_Balance'] = dataTrain['Monthly_Balance'].str.replace('__-333333333333333333333333333__', '33333333333333333')\n",
    "\n",
    "#PASO 3: CONVERSION A NUMERICO \n",
    "\n",
    "#TIPO FLOAT\n",
    "\n",
    "dataTrain['Annual_Income'] = dataTrain['Annual_Income'].astype(float)\n",
    "dataTrain['Changed_Credit_Limit'] = dataTrain['Changed_Credit_Limit'].astype(float)\n",
    "dataTrain['Outstanding_Debt'] = dataTrain['Outstanding_Debt'].astype(float)\n",
    "dataTrain['Amount_invested_monthly'] = dataTrain['Amount_invested_monthly'].astype(float)\n",
    "dataTrain['Monthly_Balance'] = dataTrain['Monthly_Balance'].astype(float)\n",
    "\n",
    "#TIPO INT\n",
    "\n",
    "dataTrain['Age'] = dataTrain['Age'].astype(int)\n",
    "dataTrain['Num_of_Loan'] = dataTrain['Num_of_Loan'].astype(int)"
   ]
  },
  {
   "attachments": {},
   "cell_type": "markdown",
   "id": "ac0492ff",
   "metadata": {},
   "source": [
    "#### 2. Balanceo en Target"
   ]
  },
  {
   "cell_type": "code",
   "execution_count": 47,
   "id": "8cb86158",
   "metadata": {},
   "outputs": [],
   "source": [
    "df_standard = dataTrain[dataTrain['Credit_Score'] == 'Standard']\n",
    "df_poor = dataTrain[dataTrain['Credit_Score'] == 'Poor']\n",
    "df_good = dataTrain[dataTrain['Credit_Score'] == 'Good']\n",
    "cantidadstandard = 2*df_good.shape[0]\n",
    "df_standard = df_standard.sample(n=cantidadstandard, random_state=2023)\n",
    "dataTrain = pd.concat([df_standard, df_poor, df_good])\n"
   ]
  },
  {
   "attachments": {},
   "cell_type": "markdown",
   "id": "dd3d6bfa",
   "metadata": {},
   "source": [
    "#### 3. Complete Case Analysis para Payment_Behaviour"
   ]
  },
  {
   "cell_type": "code",
   "execution_count": 48,
   "id": "94840733",
   "metadata": {},
   "outputs": [],
   "source": [
    "#CCA\n",
    "dataTrain = dataTrain[dataTrain['Payment_Behaviour'].str.contains('!@9#%8') == False]"
   ]
  },
  {
   "attachments": {},
   "cell_type": "markdown",
   "id": "a460950b-75f7-4c60-9415-2e183cee5f7d",
   "metadata": {},
   "source": [
    "#### 4. Train Test Split para Entrenamiento y Prueba"
   ]
  },
  {
   "cell_type": "code",
   "execution_count": 49,
   "id": "2d9fa326",
   "metadata": {},
   "outputs": [],
   "source": [
    "#codificación de variable target.\n",
    "creditMapp = {'Credit_Score': {\"Poor\":1,\"Standard\": 2, \"Good\": 3}}\n",
    "dataTrain = dataTrain.replace(creditMapp)"
   ]
  },
  {
   "cell_type": "code",
   "execution_count": 50,
   "id": "e29738ce-1ae7-4d7b-a5de-3703ded7ccf9",
   "metadata": {},
   "outputs": [],
   "source": [
    "X_train, X_test, y_train, y_test = train_test_split(\n",
    "    dataTrain.drop(['ID', 'Credit_Score','Changed_Credit_Limit','Credit_Utilization_Ratio','Total_EMI_per_month',\n",
    "                    'Amount_invested_monthly',], axis=1),\n",
    "    dataTrain['Credit_Score'],\n",
    "    test_size=0.3,\n",
    "    random_state=2022)"
   ]
  },
  {
   "attachments": {},
   "cell_type": "markdown",
   "id": "8c7e7779-87a6-41f1-8d3f-f069bd4aabf2",
   "metadata": {},
   "source": [
    "#### 3. Configuración del Pipeline"
   ]
  },
  {
   "cell_type": "code",
   "execution_count": 51,
   "id": "9611114b-690a-43b4-a523-360aadb9a89b",
   "metadata": {},
   "outputs": [],
   "source": [
    "\n",
    "\n",
    "#imputación de variables categoricas con indicador de Faltante (Missing)\n",
    "CATEGORICAL_VARS_WITH_NA_MISSING = ['Credit_Mix','Occupation']\n",
    "\n",
    "#Imputación de variables numéricas\n",
    "\n",
    "NUMERICAL_VARS_WITH_NA_MEAN = ['Num_Credit_Inquiries','Monthly_Balance']\n",
    "\n",
    "\n",
    "#Variables para transfomraicón Yeo\n",
    "\n",
    "NUMERICAL_YEON_VARS =['Annual_Income',\n",
    " 'Interest_Rate',\n",
    " 'Outstanding_Debt',\n",
    " 'Num_Bank_Accounts',\n",
    " 'Num_Credit_Card',\n",
    " 'Num_Credit_Inquiries',\n",
    " 'Delay_from_due_date',\n",
    " 'Monthly_Balance']\n",
    "\n",
    "\n",
    "#Variables para codificación por frecuencia\n",
    "CATEGORICAL_VARS = ['SSN','Occupation','Payment_of_Min_Amount','Payment_Behaviour','Month','Credit_Mix']\n",
    "\n",
    "\n",
    "#Variables a utilzar en el entrenamiento\n",
    "FEATURES = [\n",
    "'Annual_Income',\n",
    "'Interest_Rate',\n",
    "'Outstanding_Debt',\n",
    "'Num_Bank_Accounts',\n",
    "'Num_Credit_Card',\n",
    "'Num_Credit_Inquiries',\n",
    "'Delay_from_due_date',\n",
    "'Monthly_Balance',\n",
    "'Month',\n",
    "'SSN',\n",
    "'Occupation',\n",
    "'Credit_Mix',\n",
    "'Payment_of_Min_Amount',\n",
    "'Payment_Behaviour'\n",
    "]"
   ]
  },
  {
   "cell_type": "code",
   "execution_count": 52,
   "id": "e0f1af0a-7c9f-4835-846e-d5b25f6a095e",
   "metadata": {},
   "outputs": [],
   "source": [
    "X_train = X_train[FEATURES]"
   ]
  },
  {
   "cell_type": "code",
   "execution_count": 53,
   "id": "479cb4c1",
   "metadata": {},
   "outputs": [],
   "source": [
    "def SinNaNiNegativos(data,colist):\n",
    "    for c in colist:\n",
    "        minimo=data[c].min()\n",
    "        if minimo<=0:\n",
    "            data[c]=data[c]+abs(minimo)+1\n",
    "        else:\n",
    "            data[c]=data[c]"
   ]
  },
  {
   "cell_type": "code",
   "execution_count": 54,
   "id": "3a9cddc7",
   "metadata": {},
   "outputs": [],
   "source": [
    "SinNaNiNegativos(X_train, NUMERICAL_YEON_VARS )\n",
    "SinNaNiNegativos(X_test, NUMERICAL_YEON_VARS )"
   ]
  },
  {
   "attachments": {},
   "cell_type": "markdown",
   "id": "9d25fe80-43f8-4bb3-9b99-d13c4bc4954a",
   "metadata": {},
   "source": [
    "#### 4. Construcción del Pipeline"
   ]
  },
  {
   "cell_type": "code",
   "execution_count": 55,
   "id": "303f4186-6d5d-491b-ba7c-ca0141d30300",
   "metadata": {},
   "outputs": [],
   "source": [
    "CreditScore_pipeline_v112022 = Pipeline([\n",
    "    \n",
    "    #=========== IMPUTACIONES ===============\n",
    "    \n",
    "    #1. Imputacion de variables categóricas con indicador de faltante\n",
    "    ('missing_imputation',\n",
    "        CategoricalImputer(imputation_method='missing', variables=CATEGORICAL_VARS_WITH_NA_MISSING)\n",
    "    ),\n",
    "    \n",
    " \n",
    "        #3. Indicador faltane en variables numericas para imputación\n",
    "    ('missing_indicator_numeric',\n",
    "        AddMissingIndicator(variables=NUMERICAL_VARS_WITH_NA_MEAN)\n",
    "    ),\n",
    "\n",
    "    \n",
    "    #4. Imputación de variables numéricas\n",
    "    ('mean_imputation',\n",
    "         MeanMedianImputer(imputation_method='mean', variables=NUMERICAL_VARS_WITH_NA_MEAN)\n",
    "    ),\n",
    "    \n",
    "    #============= CODIFICACIÓN DE VARIABLES CATEGORICAS NOMINALES ==================\n",
    "    ('rare_label_encoder',\n",
    "        RareLabelEncoder(n_categories=1, tol=0.01, variables=CATEGORICAL_VARS)\n",
    "    ),\n",
    "    \n",
    "    ('categorical_encoder',\n",
    "        OrdinalEncoder(encoding_method='ordered', variables=CATEGORICAL_VARS)\n",
    "    ),\n",
    "\n",
    "    #=============== TRATAMIENTO DE OUTLIERS ============\n",
    "    ('Tratamiento_outliers',\n",
    "        Winsorizer(capping_method='iqr', variables=NUMERICAL_YEON_VARS)),\n",
    "        \n",
    "    #=============== TRANSFORMACIÓN DE VARIABLES CONTINUAS ============\n",
    "    \n",
    "    ('yeo_transformer',\n",
    "        YeoJohnsonTransformer(variables=NUMERICAL_YEON_VARS)\n",
    "    ),\n",
    "\n",
    "     #=============== SCALER ============\n",
    "    ('scaler',\n",
    "        StandardScaler(),\n",
    "    ),\n",
    "         #=============== MODELO ============\n",
    "    ('modelo',\n",
    "       DecisionTreeClassifier(max_depth= 10, max_features=14)\n",
    "    )\n",
    "])"
   ]
  },
  {
   "cell_type": "code",
   "execution_count": 56,
   "id": "69c3632b-d1bc-48ca-b7cf-d9aa4776875a",
   "metadata": {},
   "outputs": [
    {
     "data": {
      "text/plain": [
       "Pipeline(steps=[('missing_imputation',\n",
       "                 CategoricalImputer(variables=['Credit_Mix', 'Occupation'])),\n",
       "                ('missing_indicator_numeric',\n",
       "                 AddMissingIndicator(variables=['Num_Credit_Inquiries',\n",
       "                                                'Monthly_Balance'])),\n",
       "                ('mean_imputation',\n",
       "                 MeanMedianImputer(imputation_method='mean',\n",
       "                                   variables=['Num_Credit_Inquiries',\n",
       "                                              'Monthly_Balance'])),\n",
       "                ('rare_label_encoder',\n",
       "                 RareLabelE...\n",
       "                                       'Num_Credit_Inquiries',\n",
       "                                       'Delay_from_due_date',\n",
       "                                       'Monthly_Balance'])),\n",
       "                ('yeo_transformer',\n",
       "                 YeoJohnsonTransformer(variables=['Annual_Income',\n",
       "                                                  'Interest_Rate',\n",
       "                                                  'Outstanding_Debt',\n",
       "                                                  'Num_Bank_Accounts',\n",
       "                                                  'Num_Credit_Card',\n",
       "                                                  'Num_Credit_Inquiries',\n",
       "                                                  'Delay_from_due_date',\n",
       "                                                  'Monthly_Balance'])),\n",
       "                ('scaler', StandardScaler()),\n",
       "                ('modelo',\n",
       "                 DecisionTreeClassifier(max_depth=10, max_features=14))])"
      ]
     },
     "execution_count": 56,
     "metadata": {},
     "output_type": "execute_result"
    }
   ],
   "source": [
    "CreditScore_pipeline_v112022.fit(X_train, y_train)"
   ]
  },
  {
   "cell_type": "code",
   "execution_count": 57,
   "id": "32a8caa4-285e-49b6-b784-7b87daa7c559",
   "metadata": {},
   "outputs": [],
   "source": [
    "X_test = X_test[FEATURES]"
   ]
  },
  {
   "cell_type": "code",
   "execution_count": 58,
   "id": "1359304d",
   "metadata": {},
   "outputs": [],
   "source": [
    "preds = CreditScore_pipeline_v112022.predict(X_test)"
   ]
  },
  {
   "cell_type": "code",
   "execution_count": 59,
   "id": "17e6acf0",
   "metadata": {},
   "outputs": [
    {
     "data": {
      "text/plain": [
       "0.3441765823120803"
      ]
     },
     "execution_count": 59,
     "metadata": {},
     "output_type": "execute_result"
    }
   ],
   "source": [
    "rmseTest = np.sqrt(mean_squared_error(np.exp(y_test), np.exp(preds)))\n",
    "np.min(np.exp(y_train)), np.max(np.exp(y_train))\n",
    "rmseTest / (np.max(np.exp(y_train)) - np.min(np.exp(y_train)))\n"
   ]
  },
  {
   "cell_type": "code",
   "execution_count": 74,
   "id": "8ec07b97",
   "metadata": {},
   "outputs": [
    {
     "data": {
      "text/html": [
       "<div>\n",
       "<style scoped>\n",
       "    .dataframe tbody tr th:only-of-type {\n",
       "        vertical-align: middle;\n",
       "    }\n",
       "\n",
       "    .dataframe tbody tr th {\n",
       "        vertical-align: top;\n",
       "    }\n",
       "\n",
       "    .dataframe thead th {\n",
       "        text-align: right;\n",
       "    }\n",
       "</style>\n",
       "<table border=\"1\" class=\"dataframe\">\n",
       "  <thead>\n",
       "    <tr style=\"text-align: right;\">\n",
       "      <th></th>\n",
       "      <th>Poor</th>\n",
       "      <th>Standard</th>\n",
       "      <th>Good</th>\n",
       "    </tr>\n",
       "  </thead>\n",
       "  <tbody>\n",
       "    <tr>\n",
       "      <th>Poor</th>\n",
       "      <td>5989</td>\n",
       "      <td>1249</td>\n",
       "      <td>741</td>\n",
       "    </tr>\n",
       "    <tr>\n",
       "      <th>Standard</th>\n",
       "      <td>1944</td>\n",
       "      <td>6342</td>\n",
       "      <td>1734</td>\n",
       "    </tr>\n",
       "    <tr>\n",
       "      <th>Good</th>\n",
       "      <td>226</td>\n",
       "      <td>1092</td>\n",
       "      <td>3546</td>\n",
       "    </tr>\n",
       "  </tbody>\n",
       "</table>\n",
       "</div>"
      ],
      "text/plain": [
       "          Poor  Standard  Good\n",
       "Poor      5989      1249   741\n",
       "Standard  1944      6342  1734\n",
       "Good       226      1092  3546"
      ]
     },
     "execution_count": 74,
     "metadata": {},
     "output_type": "execute_result"
    }
   ],
   "source": [
    "from sklearn.metrics import accuracy_score, roc_auc_score, confusion_matrix\n",
    "\n",
    "cm = confusion_matrix(y_test, preds)\n",
    "cm_df = pd.DataFrame(cm, index = [\"Poor\",\"Standard\",\"Good\"], columns = [\"Poor\",\"Standard\",\"Good\"])\n",
    "cm_df"
   ]
  },
  {
   "cell_type": "code",
   "execution_count": 76,
   "id": "8099bc20",
   "metadata": {},
   "outputs": [
    {
     "data": {
      "text/plain": [
       "0.8448066451455994"
      ]
     },
     "execution_count": 76,
     "metadata": {},
     "output_type": "execute_result"
    }
   ],
   "source": [
    "#caso32991\n",
    "TP32991=cm_df.iloc[0,0]\n",
    "FN32991=cm_df.iloc[0,1]+cm_df.iloc[0,2]\n",
    "FP32991=cm_df.iloc[1,0]+cm_df.iloc[2,0]\n",
    "TN32991=cm_df.iloc[1,1]+cm_df.iloc[1,2]+cm_df.iloc[2,1]+cm_df.iloc[2,2]\n",
    "#caso16445\n",
    "TP16445=cm_df.iloc[1,1]\n",
    "FN16445=cm_df.iloc[1,0]+cm_df.iloc[1,2]\n",
    "FP16445=cm_df.iloc[0,1]+cm_df.iloc[2,1]\n",
    "TN16445=cm_df.iloc[0,0]+cm_df.iloc[0,2]+cm_df.iloc[2,0]+cm_df.iloc[2,2]\n",
    "#caso26773\n",
    "TP26773=cm_df.iloc[2,2]\n",
    "FN26773=cm_df.iloc[2,0]+cm_df.iloc[2,1]\n",
    "FP26773=cm_df.iloc[0,2]+cm_df.iloc[1,2]\n",
    "TN26773=cm_df.iloc[0,0]+cm_df.iloc[0,1]+cm_df.iloc[1,0]+cm_df.iloc[1,1]\n",
    "#Sensibilidad para cada clase y general\n",
    "Sen32991=TP32991/(TP32991+FN32991)\n",
    "Sen16445=TP16445/(TP16445+FN16445)\n",
    "Sen26773=TP26773/(TP26773+FN26773)\n",
    "SenPromedio=(Sen32991+Sen16445+Sen26773)/3\n",
    "#Specifity\n",
    "Sp32991=TN32991/(TN32991+FP32991)\n",
    "Sp16445=TN16445/(TN16445+FP16445)\n",
    "Sp26773=TN26773/(TN26773+FP26773)\n",
    "SpPromedio=(Sp32991+Sp16445+Sp26773)/3"
   ]
  },
  {
   "cell_type": "code",
   "execution_count": 78,
   "id": "403b98c6",
   "metadata": {},
   "outputs": [
    {
     "data": {
      "text/plain": [
       "[1, 3, 2]"
      ]
     },
     "execution_count": 78,
     "metadata": {},
     "output_type": "execute_result"
    }
   ],
   "source": [
    "d = y_test.unique()\n",
    "class_name = list(d.flatten())\n",
    "class_name"
   ]
  },
  {
   "cell_type": "code",
   "execution_count": 87,
   "id": "76766ac5",
   "metadata": {},
   "outputs": [],
   "source": [
    "from sklearn.metrics import roc_auc_score\n",
    "\n",
    "y_proba = CreditScore_pipeline_v112022.predict_proba(X_test)\n",
    "classes = CreditScore_pipeline_v112022.classes_\n"
   ]
  },
  {
   "cell_type": "code",
   "execution_count": 88,
   "id": "d9426fcd",
   "metadata": {},
   "outputs": [
    {
     "data": {
      "text/plain": [
       "0.8501292183884953"
      ]
     },
     "execution_count": 88,
     "metadata": {},
     "output_type": "execute_result"
    }
   ],
   "source": [
    "roc_auc_score(y_test, y_proba, labels = classes, multi_class = 'ovr', average = 'macro')"
   ]
  },
  {
   "cell_type": "code",
   "execution_count": 96,
   "id": "5fc61a82",
   "metadata": {},
   "outputs": [
    {
     "data": {
      "text/plain": [
       "14"
      ]
     },
     "execution_count": 96,
     "metadata": {},
     "output_type": "execute_result"
    }
   ],
   "source": [
    "len(X_test.columns)\n",
    "len(X_train.columns)"
   ]
  }
 ],
 "metadata": {
  "kernelspec": {
   "display_name": "Python 3.9.12 ('base')",
   "language": "python",
   "name": "python3"
  },
  "language_info": {
   "codemirror_mode": {
    "name": "ipython",
    "version": 3
   },
   "file_extension": ".py",
   "mimetype": "text/x-python",
   "name": "python",
   "nbconvert_exporter": "python",
   "pygments_lexer": "ipython3",
   "version": "3.9.13"
  },
  "vscode": {
   "interpreter": {
    "hash": "48168050f1fe731b302b63a744aad32afdf0a66ee6e49905924ec3fd4edeb196"
   }
  }
 },
 "nbformat": 4,
 "nbformat_minor": 5
}
